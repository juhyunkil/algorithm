{
 "cells": [
  {
   "cell_type": "markdown",
   "metadata": {},
   "source": [
    "<h1>이진탐색 - 탐색 범위를 반으로 좁혀가며 빠르게 탐색하는 알고리즘</h1><br>\n",
    "- 순차탐색 : 리스트 내의 특정한 데이터를 찾기 위해 앞에서부터 데이터를 하나씩 차례대로 확인하는 방법, 정렬되지 않은 경우 -> O(N)<br>\n",
    "- 이진탐색 : 리스트가 정렬된 상태여야 가능, 탐색범위 반으로 좁혀가기 때문에 매우 빠르게 탐색 가능<br>\n",
    "범위 내 중간위치의 데이터와 비교 반복 -> 시간복잡도 O(NlogN)<br>\n",
    "- 트리(Tree) : 노드와 노드의 연결로 표현된 자료구조, 그래프 자료구조의 일종으로 DB시스템이나 파일 시스템과 같이 대용량 파일을 관리할때 사용<br>\n",
    "- 이진탐색트리 : 이진탐색이 동작 할 수 있도록 고안된, 효율적 탐색이 가능한 자료구조, 왼쪽자식 < 부모 < 오른쪽 자식 항상 성립.<br>"
   ]
  },
  {
   "cell_type": "code",
   "execution_count": null,
   "metadata": {},
   "outputs": [],
   "source": [
    "#재귀함수로 구현한 이진탐색\n",
    "def binary_search(array,target,start,end):\n",
    "    if start > end: return None\n",
    "    mid = (start + end) // 2\n",
    "    if array[mid] == target: return mid\n",
    "    elif array[mid] > target: return binary_search(array,target,start,mid-1)\n",
    "    else: return binary_search(array,target,mid+1,end)\n",
    "    \n",
    "n, target = map(int,input().split())\n",
    "array = list(map(int,input().split()))\n",
    "result = binary_search(array,target,0,n-1)\n",
    "if result == None: print(\"원소가 존재하지 않습니다\")\n",
    "else: print(result)"
   ]
  },
  {
   "cell_type": "code",
   "execution_count": null,
   "metadata": {},
   "outputs": [],
   "source": [
    "#반복문으로 구현한 이진탐색\n",
    "def binary_search(array,target,start,end):\n",
    "    while start <= end:\n",
    "        mid = (start + end) // 2\n",
    "        if array[mid] == target: return mid\n",
    "        elif array[mid] > target: end = mid - 1\n",
    "        else: start = mid + 1\n",
    "    return None\n",
    "\n",
    "n, target = map(int,input().split())\n",
    "array = list(map(int,input().split()))\n",
    "result = binary_search(array,target,0,n-1)\n",
    "if result == None: print(\"원소가 존재하지 않습니다\")\n",
    "else: print(result)"
   ]
  },
  {
   "cell_type": "markdown",
   "metadata": {},
   "source": [
    "※입력 데이터가 많은 문제는 sys라이브러리 사용※<br>\n",
    "import sys<br>\n",
    "input_data = sys.stdin.readline().rstrip()<br>"
   ]
  },
  {
   "cell_type": "markdown",
   "metadata": {},
   "source": [
    "<h3>1. 부품찾기</h3>"
   ]
  },
  {
   "cell_type": "code",
   "execution_count": null,
   "metadata": {},
   "outputs": [],
   "source": [
    "#'in'으로 집합 자료형 내에 원소가 있는지 확인\n",
    "n = int(input())\n",
    "part_list = set(map(int,input().split()))#있는지 여부만 본다면 list가 아닌 set으로 받으면 됨\n",
    "m = int(input())\n",
    "asked_list = list(map(int,input().split()))\n",
    "\n",
    "for asked in asked_list:\n",
    "    if asked in part_list:\n",
    "        print('yes',end=' ')\n",
    "    else:\n",
    "        print('no',end=' ')"
   ]
  },
  {
   "cell_type": "code",
   "execution_count": null,
   "metadata": {},
   "outputs": [],
   "source": [
    "#이진탐색으로 구현\n",
    "n = int(input())\n",
    "part_list = list(map(int,input().split()))\n",
    "m = int(input())\n",
    "asked_list = list(map(int,input().split()))\n",
    "\n",
    "def binary_search(part_list,target,start,end):\n",
    "    if start > end : return False\n",
    "    mid = (start + end) // 2\n",
    "    if part_list[mid] == target: return True\n",
    "    elif part_list[mid] > target: return binary_search(part_list,target,start,mid-1)\n",
    "    else: return binary_search(part_list,target,mid+1,end)\n",
    "        \n",
    "for asked in asked_list:\n",
    "    if binary_search(part_list,asked,0,n-1):\n",
    "        print('yes',end = ' ')\n",
    "    else:\n",
    "        print('no',end = ' ')"
   ]
  },
  {
   "cell_type": "code",
   "execution_count": null,
   "metadata": {},
   "outputs": [],
   "source": [
    "#계수정렬로 구현\n",
    "n = int(input())\n",
    "stock_list = [0]*1000001#1~1000000\n",
    "for i in input().split():\n",
    "    stock_list[int(i)] += 1\n",
    "    \n",
    "m = int(input())\n",
    "asked_list = list(map(int,input().split()))\n",
    "\n",
    "for asked in asked_list:\n",
    "    if stock_list[asked] != 0:\n",
    "        print('yes',end = ' ')\n",
    "    else:\n",
    "        print('no',end = ' ')"
   ]
  },
  {
   "cell_type": "markdown",
   "metadata": {},
   "source": [
    "<h3>2. 떡볶이 떡 만들기</h3>"
   ]
  },
  {
   "cell_type": "code",
   "execution_count": null,
   "metadata": {},
   "outputs": [],
   "source": [
    "n,m = map(int,input().split())\n",
    "arr = list(map(int,input().split()))\n",
    "arr.sort()#떡을 길이순으로 정렬\n",
    "\n",
    "start = 0#최소 자르는 기계의 높이\n",
    "end = arr[0]#최대 자르는 기계의 높이\n",
    "result = 0#최종 자르는 기계의 높이\n",
    "\n",
    "#자르는 기계의 높이를 최소길이부터 최대길이까지 이진탐색하며 검사\n",
    "while start <= end:\n",
    "    total = 0#잘린 떡의 총 길이\n",
    "    mid = (start+end)//2#자르는 기계의 높이\n",
    "    for x in arr:\n",
    "        if x > mid:#떡의 길이가 기계의 높이보다 길면 자른 길이에 더해진다\n",
    "            total += x - mid#잘린 총 길이에 더함\n",
    "        else:\n",
    "            break\n",
    "    if total < m:#총 길이가 필요한 길이 보다 짧다면\n",
    "        end = mid - 1#자르는 기계의 높이를 줄인다 -> 더 길게 자른다\n",
    "    else: #총 길이가 필요한 길이보다 길다면\n",
    "        result = mid#최대한 덜 잘랐을 때가 정답이므로 우선 result에 기록\n",
    "        start = mid + 1#자르는 기계의 높이를 높여본다 -> 높였을 때도 만족하는 결과가 있을 수 있다\n",
    "        \n",
    "print(result)"
   ]
  }
 ],
 "metadata": {
  "kernelspec": {
   "display_name": "Python 3",
   "language": "python",
   "name": "python3"
  },
  "language_info": {
   "codemirror_mode": {
    "name": "ipython",
    "version": 3
   },
   "file_extension": ".py",
   "mimetype": "text/x-python",
   "name": "python",
   "nbconvert_exporter": "python",
   "pygments_lexer": "ipython3",
   "version": "3.7.6"
  }
 },
 "nbformat": 4,
 "nbformat_minor": 4
}
