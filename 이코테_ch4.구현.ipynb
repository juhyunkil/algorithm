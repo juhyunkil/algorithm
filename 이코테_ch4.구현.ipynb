{
 "cells": [
  {
   "cell_type": "markdown",
   "metadata": {},
   "source": [
    "<h1>구현 - 머리속 알고리즘을 정확하고 빠르게 코드로 구현하기</h1><br>\n",
    "-완전탐색 : 모든 경우의 수를 주저 없이 다 계산하는 해결 방법<br>\n",
    "-시뮬레이션 : 문제에서 제시한 알고리즘을 한 단계씩 차례대로 직접 수행<br>\n",
    "-구현 시 고려해야 할 제약 사항 : 1초에 2000만번의 연산을 수행한다고 가정<br>\n",
    "n < 500) O(N^3),1초<br>\n",
    "n < 2,000) O(N^2),1초<br>\n",
    "n < 100,000) O(NlogN),1초<br>\n",
    "n < 10,000,000) O(N),1초<br>\n",
    "pypy3를 이용해 채점하는 경우가 생겨나고 있고 이는 python3의 문법을 그대로 지원하지만 속도가 빨라 유리함"
   ]
  },
  {
   "cell_type": "markdown",
   "metadata": {},
   "source": [
    "<h3>1.상하좌우-시뮬레이션</h3>\n",
    "연산횟수는 이동 횟수에 비례 - O(N)"
   ]
  },
  {
   "cell_type": "code",
   "execution_count": 2,
   "metadata": {},
   "outputs": [
    {
     "name": "stdout",
     "output_type": "stream",
     "text": [
      "5\n",
      "R R R U D D\n",
      "3 4\n"
     ]
    }
   ],
   "source": [
    "n = int(input())\n",
    "dir = list(input().split())\n",
    "\n",
    "def in_range(x,y):\n",
    "    return (x>=0 and x<n and y>=0 and y<n)\n",
    "\n",
    "x,y = 0,0\n",
    "for d in dir:\n",
    "    if d=='L':\n",
    "        nx,ny = x,y-1\n",
    "        if in_range(nx,ny):x,y = nx,ny\n",
    "    elif d=='R':\n",
    "        nx,ny = x,y+1\n",
    "        if in_range(nx,ny):x,y = nx,ny\n",
    "    elif d=='U':\n",
    "        nx,ny = x-1,y\n",
    "        if in_range(nx,ny):x,y = nx,ny\n",
    "    else:#d=='D'\n",
    "        nx,ny = x+1,y\n",
    "        if in_range(nx,ny):x,y = nx,ny\n",
    "print(x+1,y+1)"
   ]
  },
  {
   "cell_type": "markdown",
   "metadata": {},
   "source": [
    "<h3>2.시각-완전탐색</h3>\n",
    "하루는 총 60*60*60=86400 초로 3중 포문을 이용해 풀어도 2초안에 문제를 해결할 수 있다<br>\n",
    "완전탐색은 비효율적인 시간 복잡도를 가지고 있어 데이터 개수가 큰 경우 무리, 전체 데이터 수가 100만개 이하일 때 사용"
   ]
  },
  {
   "cell_type": "code",
   "execution_count": 7,
   "metadata": {},
   "outputs": [
    {
     "name": "stdout",
     "output_type": "stream",
     "text": [
      "5\n",
      "11475\n"
     ]
    }
   ],
   "source": [
    "n = int(input())\n",
    "cnt = 0\n",
    "for h in range(0,n+1):\n",
    "    for m in range(0,60):\n",
    "        for s in range(0,60):\n",
    "            if '3' in str(h) + str(m) + str(s):\n",
    "                cnt += 1\n",
    "print(cnt)"
   ]
  },
  {
   "cell_type": "markdown",
   "metadata": {},
   "source": [
    "<h3>3.왕실의 나이트</h3>"
   ]
  },
  {
   "cell_type": "code",
   "execution_count": 11,
   "metadata": {},
   "outputs": [
    {
     "name": "stdout",
     "output_type": "stream",
     "text": [
      "c2\n",
      "6\n"
     ]
    }
   ],
   "source": [
    "position = input()\n",
    "dir_x = [-2,-2,2,2,-1,1,-1,1]\n",
    "dir_y = [-1,1,-1,1,2,2,-2,-2]\n",
    "p = ['a','b','c','d','e','f','g','h']\n",
    "\n",
    "x = int(position[1])-1\n",
    "y = p.index(position[0])#int(ord(position[0]))-int(ord('a'))+1\n",
    "cnt = 0\n",
    "\n",
    "def in_range(x,y):\n",
    "    return (x>=0 and x<8 and y>=0 and y<8)\n",
    "\n",
    "for dx,dy in zip(dir_x,dir_y):\n",
    "    nx,ny = x+dx,y+dy\n",
    "    if in_range(nx,ny):\n",
    "        cnt += 1\n",
    "print(cnt)"
   ]
  },
  {
   "cell_type": "markdown",
   "metadata": {},
   "source": [
    "<h3>4.게임개발</h3>"
   ]
  },
  {
   "cell_type": "code",
   "execution_count": 16,
   "metadata": {},
   "outputs": [
    {
     "name": "stdout",
     "output_type": "stream",
     "text": [
      "4 4\n",
      "1 1 0\n",
      "1 1 1 1\n",
      "1 0 0 1\n",
      "1 1 0 1\n",
      "1 1 1 1\n",
      "3\n"
     ]
    }
   ],
   "source": [
    "n,m = map(int,input().split())\n",
    "x,y,d = map(int,input().split())\n",
    "arr = [list(map(int,input().split())) for _ in range(n)]\n",
    "\n",
    "visited = [[0 for _ in range(m)] for _ in range(n)]\n",
    "dx = [-1,0,1,0]#북,서,남,동\n",
    "dy = [0,-1,0,1]\n",
    "\n",
    "visited[x][y] = 1\n",
    "cnt = 1\n",
    "turn_time = 0\n",
    "\n",
    "def can_go(x,y):#진출 가능 여부\n",
    "    if x>=0 and x<n and y>=0 and y<m:#범위 안에 들어오고\n",
    "        if visited[x][y] == 0 and arr[x][y] == 0:#방문한적 없고 바다가 아닐 시\n",
    "            return True\n",
    "    return False\n",
    "\n",
    "while(True):\n",
    "    d = (d+1)%4#왼쪽으로 회전\n",
    "    nx,ny = x + dx[d], y + dy[d]\n",
    "    if can_go(nx,ny):#왼쪽으로 진출 가능시\n",
    "        x,y = nx,ny#진출\n",
    "        visited[x][y] = 1\n",
    "        cnt += 1#진출 횟수 +1\n",
    "        turn_time = 0#회전 횟수 0으로 초기화\n",
    "        continue\n",
    "    else:#진출 불가시\n",
    "        turn_time += 1#회전 횟수 1증가\n",
    "    if turn_time == 4:#4번 돌았을 시\n",
    "        nx = x - dx[d]#바라보는 방향 기준으로 뒤로 백\n",
    "        ny = y - dy[d]\n",
    "        if arr[nx][ny] == 0:#진출 가능시\n",
    "            x,y = nx,ny#뒤로 진출\n",
    "        else:#진출 불가시\n",
    "            break#동작 종료\n",
    "        turn_time = 0#회전 횟수 0으로 초기화\n",
    "print(cnt)"
   ]
  }
 ],
 "metadata": {
  "kernelspec": {
   "display_name": "Python 3",
   "language": "python",
   "name": "python3"
  },
  "language_info": {
   "codemirror_mode": {
    "name": "ipython",
    "version": 3
   },
   "file_extension": ".py",
   "mimetype": "text/x-python",
   "name": "python",
   "nbconvert_exporter": "python",
   "pygments_lexer": "ipython3",
   "version": "3.7.6"
  }
 },
 "nbformat": 4,
 "nbformat_minor": 4
}
