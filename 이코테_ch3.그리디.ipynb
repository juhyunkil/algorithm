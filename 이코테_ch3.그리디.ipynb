{
 "cells": [
  {
   "cell_type": "markdown",
   "metadata": {},
   "source": [
    "<h1>그리디,탐욕법,욕심쟁이 알고리즘 - 당장 가장 좋은것 만을 선택하는 알고리즘</h1><br>\n",
    "현재 상황에서 당장 좋은것만 고르므로 현재의 선택이 나중에 미칠 영향에 대해서는 고려하지 않는다.<br>\n",
    "문제 출제의 범위가 넓어 그리디의 한 종류인 다익스크라를 제외하고는 단순 암기를 통해 모든 문제를 대체하긴 어렵다.<br>\n",
    "문제를 풀기 위한 최소한의 아이디어를 떠올릴 수 있는 능력을 요구하며 자주 정렬 문제와 짝을 이루어 출제된다<br>"
   ]
  },
  {
   "cell_type": "markdown",
   "metadata": {},
   "source": [
    "<h3>1.거스름돈</h3>\n",
    "그리디 - 가장 큰 화폐 단위부터 돈을 거슬러 주는 것, 화폐의 종류가 K개일 때 복잡도 O(K), 거슬러 줘야 할 돈의 크기에는 영향없음<br>\n",
    "정당성 - 동전 중 큰 단위가 항상 작은 단위의 배수이므로 작은 단위만으로 새로운 해가 나오지 않는다는 전제가 있어야 함"
   ]
  },
  {
   "cell_type": "code",
   "execution_count": null,
   "metadata": {},
   "outputs": [],
   "source": [
    "n = int(input())#거슬러주어야 할 돈\n",
    "count = 0\n",
    "coins = [500,100,50,10]\n",
    "for coin in coins:\n",
    "    count += n//coin#제일 큰 단위부터 거슬러 줌\n",
    "    n %= coin#거슬러주고 남은 돈\n",
    "print(count)"
   ]
  },
  {
   "cell_type": "markdown",
   "metadata": {},
   "source": [
    "<h3>2.큰수의법칙</h3>"
   ]
  },
  {
   "cell_type": "code",
   "execution_count": 10,
   "metadata": {},
   "outputs": [
    {
     "name": "stdout",
     "output_type": "stream",
     "text": [
      "5 8 3\n",
      "2 4 5 4 6\n",
      "46\n"
     ]
    }
   ],
   "source": [
    "n,m,k = map(int,input().split())\n",
    "arr = list(map(int,input().split()))\n",
    "arr.sort(reverse=True)\n",
    "sum,cnt,i = 0,1,0\n",
    "for _ in range(m):\n",
    "    if(cnt%(k+1)==0):sum += arr[1]\n",
    "    else: sum += arr[0]\n",
    "    cnt += 1\n",
    "print(sum)"
   ]
  },
  {
   "cell_type": "code",
   "execution_count": 12,
   "metadata": {},
   "outputs": [
    {
     "name": "stdout",
     "output_type": "stream",
     "text": [
      "5 8 3\n",
      "2 3 5 4 6\n",
      "46\n"
     ]
    }
   ],
   "source": [
    "#책답안\n",
    "n,m,k = map(int,input().split())\n",
    "arr = list(map(int,input().split()))\n",
    "arr.sort(reverse=True)\n",
    "cnt = int(m/(k+1))*k#arr[0]이 더해지는 횟수, m을 반복되는 수열길이(k+1)로 나눈 횟수에 수열에서 arr[0]이 등장하는 횟수 k를 곱해 구한다.\n",
    "cnt += m%(k+1)#나머지에 arr[0]이 등장하는 횟수\n",
    "sum = 0\n",
    "sum += cnt*arr[0]\n",
    "sum += (m-cnt)*arr[1]\n",
    "print(sum)"
   ]
  },
  {
   "cell_type": "markdown",
   "metadata": {},
   "source": [
    "<h3>3.숫자카드게임</h3>"
   ]
  },
  {
   "cell_type": "code",
   "execution_count": 14,
   "metadata": {},
   "outputs": [
    {
     "name": "stdout",
     "output_type": "stream",
     "text": [
      "2 4\n",
      "7 3 1 8\n",
      "3 3 3 4\n",
      "3\n"
     ]
    }
   ],
   "source": [
    "n,m = map(int,input().split())\n",
    "arr = [list(map(int,input().split())) for _ in range(n)]\n",
    "min_list = []\n",
    "for a in arr:\n",
    "    min_list.append(min(a))\n",
    "print(max(min_list))"
   ]
  },
  {
   "cell_type": "markdown",
   "metadata": {},
   "source": [
    "<h3>4.1이 될 때까지</h3>"
   ]
  },
  {
   "cell_type": "code",
   "execution_count": 6,
   "metadata": {},
   "outputs": [
    {
     "name": "stdout",
     "output_type": "stream",
     "text": [
      "27 4\n",
      "7\n"
     ]
    }
   ],
   "source": [
    "n,k = map(int,input().split())\n",
    "cnt = 0\n",
    "while(True):\n",
    "    if(n%k==0):\n",
    "        n = n // k\n",
    "    else:\n",
    "        n -= 1\n",
    "    cnt += 1\n",
    "    if(n==1):break\n",
    "print(cnt)"
   ]
  },
  {
   "cell_type": "code",
   "execution_count": 8,
   "metadata": {},
   "outputs": [
    {
     "name": "stdout",
     "output_type": "stream",
     "text": [
      "27 4\n",
      "7\n"
     ]
    }
   ],
   "source": [
    "#책답안\n",
    "n,k = map(int,input().split())\n",
    "result = 0\n",
    "while True:\n",
    "    #n==k로 나누어 떨어지는 수가 될 때까지 1씩 빼기\n",
    "    target = (n//k)*k\n",
    "    result += (n-target)\n",
    "    n = target\n",
    "    #n이 k보다 작을 때(더이상 나눌 수 없을 때) 반복문 탈출\n",
    "    if n<k: break\n",
    "    result += 1\n",
    "    n //= k\n",
    "result += (n-1)\n",
    "print(result)"
   ]
  }
 ],
 "metadata": {
  "kernelspec": {
   "display_name": "Python 3",
   "language": "python",
   "name": "python3"
  }
 },
 "nbformat": 4,
 "nbformat_minor": 4
}
