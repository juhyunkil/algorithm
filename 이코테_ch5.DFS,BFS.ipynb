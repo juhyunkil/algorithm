{
 "cells": [
  {
   "cell_type": "markdown",
   "metadata": {},
   "source": [
    "<h1>DFS,BFS - 그래프를 탐색하기 위한 대표적인 알고리즘</h1><br>\n",
    "-탐색: 많은 양의 데이터 중에서 원하는 데이터를 찾는 과정, 대표적인 탐색 알고리즘으로 dfs,bfs가 있다.<br>\n",
    "-자료구조: 데이터를 표현하고 관리하고 처리하기 위한 구조, 스택과 큐가 존재<br>\n",
    "-push,pop: 스택과 큐의 핵심 함수<br>\n",
    "-Stack: 후입선출(LIFO), append()-끝에 원소 붙임, pop()-오른쪽 끝 원소 꺼냄, 별도의 라이브러리 구현 필요 없음, 삽입과 삭제 같은쪽<br>\n",
    "-Queue: 선입선출(FIFO), 삽입은 뒤쪽 삭제는 앞쪽, append,popleft()-왼쪽 끝 원소 꺼냄<br>\n",
    "-collections.deque 자료구조: 데이터를 넣고 빼는 속도가 빠름, list(queue)로 qedue객체를 리스트 자료형으로 형변환<br>\n",
    "-재귀함수: 자기 자신을 다시 호출하는 함수, 종료조건이 매우 중요, 컴퓨터 내에서 재귀함수의 수행은 스택 자료구조를 이용<br>\n",
    "재귀함수는 반복문을 이용하는 것과 비교했을 때 더욱 간결한 버전<br>\n",
    "※그래프를 나타내는 방법<br>\n",
    "-인접행렬(adjacency matrix): 2차원 배열로 그래프의 연결 관계를 표현하는 방식, 모든관계를 저장->메모리가 불필요하게 낭비<br>\n",
    "-인접리스트(adjacency list): 연결리스트로 그래프의 연결 관계를 표현하는 방식, 연결된 정보만을 저장->메모리를 효율적으로 사용<br>\n",
    "인접리스트 방식은 인접 행렬 방식에 비해 두 노드의 연결 정보를 얻는 속도가 느리다. 연결된 데이터를 하나씩 다 확인해야 하기 때문<br>\n",
    "따라서 특정 노드와 연결되 모든 인접노드를 순회해야 하는 경우 인접리스트 방식이 인접행렬방식에 비해 메모리 낭비가 적다.<br>"
   ]
  },
  {
   "cell_type": "markdown",
   "metadata": {},
   "source": [
    "<h3>DFS</h3>\n",
    "depth-first search, 깊이우선탐색, 그래프에서 깊은 부분을 우선적으로 탐색하는 알고리즘<br>\n",
    "dfs에서는 후입선출 방식인 스택 자료구조를 이용한다.<br>\n",
    "※DFS동작과정<br>\n",
    "1. 탐색 시작 노드를 스택에 삽입하고 방문처리<br>\n",
    "2. 스택의 최상단 노드에 방문하지 않은 인접노드가 있으면 그 인접노드 스택에 넣고 방문처리, 없으면 스택에서 최상단 노드 꺼냄<br>\n",
    "3. 2번의 과정을 더 이상 수행할 수 없을 때까지 반복한다.<br>\n",
    "=> dfs는 스택 자료구조에 기초해 재귀함수로 구현, O(N)"
   ]
  },
  {
   "cell_type": "code",
   "execution_count": null,
   "metadata": {},
   "outputs": [],
   "source": [
    "def dfs(graph,v,visited):\n",
    "    visited[v] = True#방문처리\n",
    "    print(v,end=' ')\n",
    "    for i in graph[v]:#나와 연결된 노드 순회\n",
    "        if not visited[i]:#방문한적 없으면 그 노드 방문\n",
    "            dfs(graph,i,visited)\n",
    "graph = [[],[2,3,8],[1,7],[1,4,5],[3,5],[3,4],[7],[2,6,8],[1,7]]\n",
    "visited = [False]*9\n",
    "dfs(graph,1,visited)#맨 첫번째 노드부터 호출"
   ]
  },
  {
   "cell_type": "markdown",
   "metadata": {},
   "source": [
    "<h3>BFS</h3>\n",
    "breadth-first search, 너비우선탐색, 가까운 노드부터 탐색하는 알고리즘<br>\n",
    "bfs에서는 선입선출을 방식인 큐 자료구조를 이용한다<br>\n",
    "※BFS동작과정<br>\n",
    "1. 탐색 시작 노드를 큐에 삽입하고 방문 처리를 한다.<br>\n",
    "2. 큐에서 노드를 꺼내 해당 노드의 인접 노드 중에서 방문하지 않은 노드를 모두 큐에 삽입하고 방문 처리를 한다.<br>\n",
    "3. 2번의 과정을 더 이상 수행할 수 없을 때까지 반복한다.<br>\n",
    "=>BFS는 큐 자료구조에 기초하여 deque라이브러리 사용해 반복문으로 구현, O(N)시간 소요, 실제 수행시간은 DFS보다 좋은편"
   ]
  },
  {
   "cell_type": "code",
   "execution_count": null,
   "metadata": {},
   "outputs": [],
   "source": [
    "from collections import deque\n",
    "def bfs(graph,start,visited):\n",
    "    queue = deque([start])\n",
    "    visited[start] = True\n",
    "    while queue:\n",
    "        v = queue.popleft()#큐에서 하나의 원소를 뽑아 출력\n",
    "        print(v,end=' ')\n",
    "        for i in graph[v]:\n",
    "            if not visited[i]:\n",
    "                queue.append(i)\n",
    "                visited[i] = True\n",
    "graph = [[],[2,3,8],[1,7],[1,4,5],[3,5],[3,4],[7],[2,6,8],[1,7]]\n",
    "visited = [False]*9\n",
    "bfs(graph,1,visited)#맨 첫번째 노드부터 호출  "
   ]
  },
  {
   "cell_type": "markdown",
   "metadata": {},
   "source": [
    "<h3>1.음료수 얼려먹기-dfs</h3>"
   ]
  },
  {
   "cell_type": "code",
   "execution_count": null,
   "metadata": {},
   "outputs": [],
   "source": [
    "n, m = map(int, input().split())\n",
    "arr = [list(map(int, input().split())) for _ in range(n)]\n",
    "visited = [[0] * m for _ in range(n)]\n",
    "dir_x = [-1,0,1,0]\n",
    "dir_y = [0,-1,0,1]\n",
    "\n",
    "def can_go(x, y):\n",
    "    if x >= 0 and x < n and y >= 0 and y < m:\n",
    "        if not visited[x][y] and arr[x][y] == 0:\n",
    "            return True\n",
    "    return False\n",
    "\n",
    "def dfs(x,y):\n",
    "    for dx,dy in zip(dir_x,dir_y):\n",
    "        nx,ny = x+dx,y+dy\n",
    "        if can_go(nx,ny):\n",
    "            visited[nx][ny] = 1\n",
    "            dfs(nx,ny)\n",
    "\n",
    "cnt = 0\n",
    "for i in range(n):\n",
    "    for j in range(m):\n",
    "        if can_go(i, j):\n",
    "            visited[i][j] = 1\n",
    "            dfs(i,j)\n",
    "            cnt+=1\n",
    "print(cnt)"
   ]
  },
  {
   "cell_type": "markdown",
   "metadata": {},
   "source": [
    "<h3>2.미로탈출-bfs</h3>"
   ]
  },
  {
   "cell_type": "code",
   "execution_count": null,
   "metadata": {},
   "outputs": [],
   "source": [
    "from _collections import deque\n",
    "\n",
    "n, m = map(int, input().split())\n",
    "maze = [list(map(int, input().split())) for _ in range(n)]\n",
    "visited = [[0] * m for _ in range(n)]\n",
    "dir_x = [-1,0,1,0]\n",
    "dir_y = [0,-1,0,1]\n",
    "\n",
    "def can_go(x, y):\n",
    "    if x >= 0 and x < n and y >= 0 and y < m:\n",
    "        if not visited[x][y] and maze[x][y]:\n",
    "            return True\n",
    "    return False\n",
    "\n",
    "def bfs(x,y):\n",
    "    queue = deque()\n",
    "    queue.append((x,y))\n",
    "    while(queue):\n",
    "        x,y = queue.popleft()\n",
    "        for dx,dy in zip(dir_x,dir_y):\n",
    "            nx,ny = x+dx,y+dy\n",
    "            if can_go(nx,ny):\n",
    "                visited[nx][ny] = 1\n",
    "                maze[nx][ny] = maze[x][y]+1\n",
    "                queue.append((nx,ny))\n",
    "\n",
    "visited[0][0] = 1\n",
    "bfs(0,0)\n",
    "print(maze[n-1][m-1])\n"
   ]
  }
 ],
 "metadata": {
  "kernelspec": {
   "display_name": "Python 3",
   "language": "python",
   "name": "python3"
  },
  "language_info": {
   "codemirror_mode": {
    "name": "ipython",
    "version": 3
   },
   "file_extension": ".py",
   "mimetype": "text/x-python",
   "name": "python",
   "nbconvert_exporter": "python",
   "pygments_lexer": "ipython3",
   "version": "3.7.6"
  }
 },
 "nbformat": 4,
 "nbformat_minor": 4
}
