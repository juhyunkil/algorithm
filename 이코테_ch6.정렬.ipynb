{
 "cells": [
  {
   "cell_type": "markdown",
   "metadata": {},
   "source": [
    "<h1>정렬 - 연속된 데이터를 기준에 따라서 정렬하기 위한 알고리즘</h1><br>\n",
    "정렬 : 데이터를 특정한 기준에 따라서 순서대로 나열하는 것"
   ]
  },
  {
   "cell_type": "markdown",
   "metadata": {},
   "source": [
    "<h3>1. 선택정렬</h3>\n",
    "가장 작은 원소를 선택해 맨 앞에있는 원소와 자리 바꾸기를 반복, 매번 가장 작은것을 선택한다는 의미에서 선택정렬<br>\n",
    "시간복잡도 : O(N^2)-최악의 경우에도 보장, 느린편"
   ]
  },
  {
   "cell_type": "code",
   "execution_count": 1,
   "metadata": {},
   "outputs": [
    {
     "name": "stdout",
     "output_type": "stream",
     "text": [
      "[0, 1, 2, 3, 4, 5, 6, 7, 8, 9]\n"
     ]
    }
   ],
   "source": [
    "array = [7,5,9,0,3,1,6,2,4,8]\n",
    "for i in range(len(array)):\n",
    "    min_index = i#가장 작은 원소의 인덱스\n",
    "    for j in range(i+1,len(array)):\n",
    "        if array[min_index] > array[j]:\n",
    "            min_index = j\n",
    "    array[i], array[min_index] = array[min_index],array[i]\n",
    "print(array)"
   ]
  },
  {
   "cell_type": "markdown",
   "metadata": {},
   "source": [
    "<h3>2. 삽입정렬</h3>\n",
    "데이터를 하나씩 확인하며 각 데이터를 적절한 위치에 삽입, 특정 데이터가 삽입되기 이전에 그 앞까지의 데이터는 이미 정렬된 상태<br>\n",
    "정렬되어 있는 데이터 리스트에서 자신보다 작은 원소를 만나면 그 위치에 삽입한다. 삽입정렬은 두번째 데이터부터 시작<br>\n",
    "시간복잡도 : O(N^2)-최악의 경우에도 보장, 현재 리스트가 거의 정렬된 상태였을 때 매우 빠르게 동작 -> 최선:O(N)"
   ]
  },
  {
   "cell_type": "code",
   "execution_count": 2,
   "metadata": {},
   "outputs": [
    {
     "name": "stdout",
     "output_type": "stream",
     "text": [
      "[0, 1, 2, 3, 4, 5, 6, 7, 8, 9]\n"
     ]
    }
   ],
   "source": [
    "array = [7,5,9,0,3,1,6,2,4,8]\n",
    "for i in range(1,len(array)):\n",
    "    for j in range(i,0,-1):#인덱스 i->1까지 감소\n",
    "        if array[j] < array[j-1]:#한 칸씩 왼쪽으로 이동\n",
    "            array[j], array[j-1] = array[j-1],array[j]\n",
    "        else:\n",
    "            break\n",
    "print(array)"
   ]
  },
  {
   "cell_type": "markdown",
   "metadata": {},
   "source": [
    "<h3>3. 퀵정렬</h3>\n",
    "가장 많이 사용되는 알고리즘, 기준 데이터(피벗)를 설정하고 그 기준보다 큰 데이터와 작은 데이터의 위치를 바꾼다.<br>\n",
    "호어분할 - 리스트의 첫번째 데이터를 피벗으로 정한다.<br>\n",
    "과정 : 왼쪽과 오른쪽 각각에서 가운데로 진행 -> 왼쪽부터 피벗보다 작은값, 오른쪽부터 피벗보다 큰값 찾아 서로 위치 교환 -> 계속 진행하다가 작은 값과 큰 값의 위치가 엇갈리면 작은값과 피벗을 교환한 후 종료 -> 피벗을 기준으로 왼쪽과 오른쪽에 대해서도 같은 작업 반복<br>\n",
    "재귀함수로 구현하면 간단히 구현 가능, 종료조건은 현재 리스트의 원소 개수가 1개일 때<br>\n",
    "시간복잡도 : O(NlogN)-빠르게 동작, 최악의경우-O(N^2), 이미 데이터가 정렬되어 있는 경우는 매우 느림"
   ]
  },
  {
   "cell_type": "code",
   "execution_count": 3,
   "metadata": {},
   "outputs": [
    {
     "name": "stdout",
     "output_type": "stream",
     "text": [
      "[0, 1, 2, 3, 4, 5, 6, 7, 8, 9]\n"
     ]
    }
   ],
   "source": [
    "#파이썬의 장점을 살린 소스코드\n",
    "\n",
    "array = [5,7,9,0,3,1,6,2,4,8]\n",
    "def quick_sort(array):\n",
    "    if len(array)<=1:\n",
    "        return array\n",
    "    pivot = array[0]#피벗은 0번째 원소\n",
    "    tail = array[1:]#피벗을 제외한 원소 리스트\n",
    "    left_side = [x for x in tail if x<=pivot]#피벗 기준 작은쪽 \n",
    "    right_side = [x for x in tail if x>pivot]#피벗 기준 오른쪽\n",
    "    return quick_sort(left_side) + [pivot] + quick_sort(right_side)\n",
    "print(quick_sort(array))"
   ]
  },
  {
   "cell_type": "code",
   "execution_count": 6,
   "metadata": {},
   "outputs": [
    {
     "name": "stdout",
     "output_type": "stream",
     "text": [
      "[0, 1, 2, 3, 4, 5, 6, 7, 8, 9]\n"
     ]
    }
   ],
   "source": [
    "#널리 사용되는 정석 코드\n",
    "\n",
    "array = [5,7,9,0,3,1,6,2,4,8]\n",
    "def quick_sort(array,start,end):\n",
    "    if start >= end: return\n",
    "    pivot = start\n",
    "    left = start+1\n",
    "    right = end\n",
    "    while left <= right:\n",
    "        while left <= end and array[left] <= array[pivot]:#피벗보다 큰 데이터 찾기\n",
    "            left += 1\n",
    "        while right > start and array[right] >= array[pivot]:#피벗보다 작은 데이터 찾기\n",
    "            right -= 1\n",
    "        if left > right:#교차됨\n",
    "            array[right], array[pivot] = array[pivot],array[right]#작은것과 피벗 교환\n",
    "        else:\n",
    "            array[right], array[left] = array[left],array[right]#left와 right교환\n",
    "    quick_sort(array,start,right-1)#왼쪽부분\n",
    "    quick_sort(array,right+1,end)#오른쪽부분\n",
    "\n",
    "quick_sort(array,0,len(array)-1)\n",
    "print(array)"
   ]
  },
  {
   "cell_type": "markdown",
   "metadata": {},
   "source": [
    "<h3>4. 계수정렬</h3>\n",
    "특정한 조건이 부합할 때만 사용 가능한 매우 빠른 알고리즘 - 데이터의 크기 범위가 제한되어 정수 형태로 표현 가능한 경우만<br>\n",
    "시간복잡도 : 모든 데이터가 양의정수, 데이터의 개수 N, 최댓값 K 인경우 최악의 경우에도 O(N+K)보장<br>\n",
    "데이터 최댓값과 최소값의 차이가 크지 않은 경우 효과적 -> 모든 범위를 담을 수 있는 크기의 배열을 선언하기 때문<br>\n",
    "데이터의 크기가 제한되어 있을 때에 한해 데이터 개수가 매우 많더라도 빠르게 동작, 동일값 여러개일때 효율<br>\n",
    "과정 : 모든 데이터 범위를 소화하는 리스트 생성 -> 데이터를 하나씩 확인하며 데이터 값과 동일한 인덱스의 데이터 1씩 증가시킴 -> 리스트에는 각 데이터가 몇 번 등장했는지 그 횟수가 기록됨 -> 리스트 첫번째 부터 하나씩 그 값 만큼 인덱스를 출력"
   ]
  },
  {
   "cell_type": "code",
   "execution_count": 9,
   "metadata": {},
   "outputs": [
    {
     "name": "stdout",
     "output_type": "stream",
     "text": [
      "0 0 1 2 3 4 5 6 6 7 8 9 9 "
     ]
    }
   ],
   "source": [
    "array = [5,7,9,9,0,0,3,1,6,6,2,4,8]\n",
    "count = [0]*(max(array)+1)#데이터 범위만큼 리스트 생성\n",
    "for i in range(len(array)):\n",
    "    count[array[i]] += 1\n",
    "for i in range(len(count)):\n",
    "    for j in range(count[i]):\n",
    "        print(i,end=' ')"
   ]
  },
  {
   "cell_type": "markdown",
   "metadata": {},
   "source": [
    "<h3>5. 파이썬의 정렬 라이브러리</h3>\n",
    "- sorted() : 병합정렬 기반, 퀵정렬보다는 느리지만 최악의 경우에도 O(NlogN)보장, dict,list,set 정렬->list반환<br>\n",
    "result = sorted(array)<br>\n",
    "- sort() : 리스트 객체의 내장함수, 리스트 반환 말고 내부 원소 자체가 정렬됨<br>\n",
    "array.sort()<br>\n",
    "- key값 전달 가능 - 하나의 함수가 들어가며 이는 정렬의 기준이 된다, 람다로도 가능<br>\n",
    "student = [(kim,4),(kil,3),(lee,5)]<br>def setting(data):return data[1]<br>result = sorted(array,key=setting)<br>\n",
    "☆단순히 정렬하는 상황-기본 정렬 알고리즘, 데이터의 범위가 한정되어 있는 경우-계수 정렬<br>\n",
    "1. 정렬 라이브러리로 풀 수 있는 문제 : 정렬 기법을 알고 있는지 물어보는 문제<br>\n",
    "2. 정렬 알고리즘의 원리에 대해 묻는 문제 : 선택, 삽입, 퀵의 원리를 알아야 가능<br>\n",
    "3. 더 빠른 정렬이 필요한 문제 : 퀵정렬 기반은 불가, 계수정렬등 다른 알고리즘 사용 혹은 기존의 알고리즘 개선하여 사용"
   ]
  },
  {
   "cell_type": "markdown",
   "metadata": {},
   "source": [
    "<h3>6.위에서 아래로</h3>"
   ]
  },
  {
   "cell_type": "code",
   "execution_count": 15,
   "metadata": {},
   "outputs": [
    {
     "name": "stdout",
     "output_type": "stream",
     "text": [
      "3\n",
      "15\n",
      "27\n",
      "12\n",
      "27 15 12 "
     ]
    }
   ],
   "source": [
    "n = int(input())\n",
    "arr = [int(input()) for _ in range(n)]\n",
    "arr= sorted(arr,reverse=True)\n",
    "for a in arr:print(a,end=' ')"
   ]
  },
  {
   "cell_type": "markdown",
   "metadata": {},
   "source": [
    "<h3>7.성적이 낮은 순서로 학생 출력하기</h3>"
   ]
  },
  {
   "cell_type": "code",
   "execution_count": 17,
   "metadata": {},
   "outputs": [
    {
     "name": "stdout",
     "output_type": "stream",
     "text": [
      "2\n",
      "홍길동 95\n",
      "이순신 77\n",
      "이순신 홍길동 "
     ]
    }
   ],
   "source": [
    "n = int(input())\n",
    "students = [tuple(input().split()) for _ in range(n)]\n",
    "students.sort(key = lambda student: int(student[1]))\n",
    "for student in students: print(student[0],end=' ')"
   ]
  },
  {
   "cell_type": "markdown",
   "metadata": {},
   "source": [
    "<h3>8.두 배열의 원소 교체</h3>"
   ]
  },
  {
   "cell_type": "code",
   "execution_count": 21,
   "metadata": {},
   "outputs": [
    {
     "name": "stdout",
     "output_type": "stream",
     "text": [
      "5 3\n",
      "5 4 3 2 1\n",
      "4 4 3 3 2\n",
      "20\n"
     ]
    }
   ],
   "source": [
    "n,k = map(int,input().split())\n",
    "A = list(map(int,input().split()))\n",
    "B = list(map(int,input().split()))\n",
    "A.sort()\n",
    "B.sort(reverse=True)\n",
    "for i in range(k):\n",
    "    if A[i] < B[i]:\n",
    "        A[i],B[i] = B[i],A[i]\n",
    "    else:\n",
    "        break\n",
    "print(sum(A))"
   ]
  }
 ],
 "metadata": {
  "kernelspec": {
   "display_name": "Python 3",
   "language": "python",
   "name": "python3"
  },
  "language_info": {
   "codemirror_mode": {
    "name": "ipython",
    "version": 3
   },
   "file_extension": ".py",
   "mimetype": "text/x-python",
   "name": "python",
   "nbconvert_exporter": "python",
   "pygments_lexer": "ipython3",
   "version": "3.7.6"
  }
 },
 "nbformat": 4,
 "nbformat_minor": 4
}
